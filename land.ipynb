{
 "cells": [
  {
   "cell_type": "code",
   "execution_count": null,
   "id": "393e8621-bdaf-42ae-bcdf-9d9cef6abfe1",
   "metadata": {
    "tags": []
   },
   "outputs": [],
   "source": [
    "import pandas as pd\n",
    "import numpy as np\n",
    "from tqdm.auto import tqdm\n",
    "import plotly.express as px\n",
    "from tabula import read_pdf"
   ]
  },
  {
   "cell_type": "code",
   "execution_count": null,
   "id": "cad74c1a-a426-439d-a6fe-e262d01087e5",
   "metadata": {
    "tags": []
   },
   "outputs": [],
   "source": [
    "x, y = read_pdf('pdfs/Current_Property_Sales_Data_File_Format_2001_to_Current.pdf', pages=[1,2])"
   ]
  },
  {
   "cell_type": "code",
   "execution_count": null,
   "id": "3352f57e-1410-477c-bbbf-091760a3ccb4",
   "metadata": {
    "tags": []
   },
   "outputs": [],
   "source": [
    "cols = x[x.columns[0]].dropna().to_list()[21:] + y[y.columns[0]].dropna().to_list()[:-7]\n",
    "cols = [i.strip().lower().replace('%', '').replace('/', '').strip().replace(\".\", \"\").replace('  ', ' ').replace(' ', '_') for i in cols]\n",
    "len(cols)"
   ]
  },
  {
   "cell_type": "code",
   "execution_count": null,
   "id": "e49f6b50-9c73-48e4-bb28-64598ae7d8a3",
   "metadata": {
    "tags": []
   },
   "outputs": [],
   "source": [
    "def parse_data_file(file_path):\n",
    "    # Initialize containers for different types of records\n",
    "    data = {'HEADER': None, 'SALES': [], 'FOOTER': None}\n",
    "\n",
    "    with open(file_path, 'r') as file:\n",
    "        for line in file:\n",
    "            parts = line.strip().split(';')\n",
    "            record_type = parts[0]\n",
    "\n",
    "            if record_type == 'A':  # Header record\n",
    "                data['HEADER'] = {\n",
    "                    'Record Type': parts[0],\n",
    "                    'District Code': parts[1],\n",
    "                    'Download Date / Time': parts[2],\n",
    "                    'Submitter\\'s Userid': parts[3],\n",
    "                }\n",
    "            elif record_type == 'B':  # Sales record\n",
    "                data['SALES'].append({\n",
    "                    'Record Type': parts[0],\n",
    "                    'District Code': parts[1],\n",
    "                    'Source': parts[2],\n",
    "                    'Valuation_num': parts[3],\n",
    "                    'Property Id.': parts[4],\n",
    "                    'Unit_num': parts[5],\n",
    "                    'House_num': parts[6],\n",
    "                    'Street_name': parts[7],\n",
    "                    'Suburb_name': parts[8],\n",
    "                    'Postcode': parts[9],\n",
    "                    'Contract_date': parts[10],\n",
    "                    'Purchase_Price': parts[11],\n",
    "                    'Land_Description': parts[12],\n",
    "                    'Area': parts[13],\n",
    "                    'Area_type': parts[14],\n",
    "                    'Dimensions': parts[15],\n",
    "                    'Comp_code': parts[16],\n",
    "                    'Zone_code': parts[17],\n",
    "                    # 'Vendor_name' and 'Purchaser_name' are removed for privacy reasons\n",
    "                })\n",
    "            elif record_type == 'Z':  # Footer record\n",
    "                data['FOOTER'] = {\n",
    "                    'Record Type': parts[0],\n",
    "                    'Total records': parts[1],\n",
    "                    'Total B records': parts[2],\n",
    "                }\n",
    "\n",
    "    return data"
   ]
  },
  {
   "cell_type": "code",
   "execution_count": null,
   "id": "36598df8-1627-43e5-80c8-9b272c8a9c2c",
   "metadata": {
    "tags": []
   },
   "outputs": [],
   "source": [
    "data = [line[:-1].split(';') for line in tqdm(open('data.csv').read().split('\\n')) if ';' in line]\n",
    "df = pd.DataFrame([d for d in tqdm(data) if len(d) == 24], columns=cols)"
   ]
  },
  {
   "cell_type": "code",
   "execution_count": null,
   "id": "464bfae1-4f7c-47ea-adfa-c466f40261f2",
   "metadata": {
    "tags": []
   },
   "outputs": [],
   "source": [
    "x = df.groupby('primary_purpose').size()\n",
    "x[x > 100].sort_values()"
   ]
  },
  {
   "cell_type": "code",
   "execution_count": null,
   "id": "11a9ae82-74e7-4505-9dd4-0f52e6c57df8",
   "metadata": {
    "tags": []
   },
   "outputs": [],
   "source": [
    "len(df)"
   ]
  },
  {
   "cell_type": "code",
   "execution_count": null,
   "id": "23ae82db-f935-4111-a41d-bc9742905d01",
   "metadata": {
    "tags": []
   },
   "outputs": [],
   "source": [
    "df2 = df[df.primary_purpose == 'RESIDENCE']\n",
    "df2 = df2[df2.settlement_date != '']\n",
    "df2 = df2.replace(r'^\\s*$', np.nan, regex=True)\n",
    "df2 = df2[df2.area_type == 'M']\n",
    "df2['area'] = df2.area.astype('float64')\n",
    "df2['purchase_price'] = df2.purchase_price.astype('float64')\n",
    "df2['ts'] = pd.to_datetime(df2.settlement_date)\n",
    "df2['ppm'] = df2.purchase_price / df2.area\n",
    "df2 = df2.sort_values(['ts', 'sale_counter'])"
   ]
  },
  {
   "cell_type": "code",
   "execution_count": null,
   "id": "d0eb2153-c675-4179-9ae9-9d3ad67bb17f",
   "metadata": {
    "tags": []
   },
   "outputs": [],
   "source": [
    "df2.to_parquet('data.pq')"
   ]
  },
  {
   "cell_type": "code",
   "execution_count": null,
   "id": "d347d1a8-5057-4012-b872-960d987c8a2c",
   "metadata": {
    "tags": []
   },
   "outputs": [],
   "source": [
    "df2 = pd.read_parquet('data.pq').reset_index(drop=True)\n",
    "df2 = df2[df2.settlement_date != '20320516']\n",
    "df2 = df2.sort_values('ts')\n",
    "df2 = df2[df2.settlement_date > '20010101']"
   ]
  },
  {
   "cell_type": "code",
   "execution_count": null,
   "id": "1bea5810-8d58-4a11-b12c-50a5054eef9a",
   "metadata": {
    "tags": []
   },
   "outputs": [],
   "source": [
    "# df2.tail().T"
   ]
  },
  {
   "cell_type": "code",
   "execution_count": null,
   "id": "3bbf6c25-3323-44d9-96e2-24603f1ffa06",
   "metadata": {
    "tags": []
   },
   "outputs": [],
   "source": [
    "px.scatter(df2.set_index('ts').resample('10D').ppm.mean().dropna())"
   ]
  },
  {
   "cell_type": "code",
   "execution_count": null,
   "id": "e89e4e1e-1ba7-4add-973f-57c8ed9b4448",
   "metadata": {
    "tags": []
   },
   "outputs": [],
   "source": [
    "df2.groupby(df2.ts.round('10D')).ppm.max().sort_values(ascending=False).astype('int64')"
   ]
  },
  {
   "cell_type": "code",
   "execution_count": null,
   "id": "708d2261-990e-4f31-8627-feb0d543a9bf",
   "metadata": {
    "tags": []
   },
   "outputs": [],
   "source": [
    "df2[df2.property_locality.str.contains('ROSE')].head()"
   ]
  },
  {
   "cell_type": "code",
   "execution_count": null,
   "id": "744e7986-acc9-4381-a555-c3e5d5c517a3",
   "metadata": {
    "tags": []
   },
   "outputs": [],
   "source": [
    "df3[df3[8read_parquetntains('GIBBEN')].head().T"
   ]
  },
  {
   "cell_type": "code",
   "execution_count": null,
   "id": "721e34f5-c0d7-485e-904a-ca41884cbd9e",
   "metadata": {
    "tags": []
   },
   "outputs": [],
   "source": [
    "df4 = df3[df3[15].str.strip() != '']\n",
    "df4['price'] = df4[15].astype('float64')\n",
    "df4 = df4[df4.ts > pd.Timestamp('2012-01-01')]\n",
    "df5 = df4.groupby(df4.ts.round('20D'))['price'].median()"
   ]
  },
  {
   "cell_type": "code",
   "execution_count": null,
   "id": "4886ccfd-632c-4a78-9e46-9eae2e00396c",
   "metadata": {
    "tags": []
   },
   "outputs": [],
   "source": [
    "df3.head()"
   ]
  },
  {
   "cell_type": "code",
   "execution_count": null,
   "id": "d7db70be-5bf6-4446-b69e-7fc2ccd3fcdc",
   "metadata": {
    "tags": []
   },
   "outputs": [],
   "source": [
    "px.scatter(df5, log_y=True)"
   ]
  },
  {
   "cell_type": "code",
   "execution_count": null,
   "id": "36a4ccfd-d849-41e2-a965-3a658685d005",
   "metadata": {},
   "outputs": [],
   "source": [
    "import pandas as pd"
   ]
  },
  {
   "cell_type": "code",
   "execution_count": null,
   "id": "ccdcf796-5a4d-466b-9970-51b538fd4911",
   "metadata": {
    "tags": []
   },
   "outputs": [],
   "source": []
  },
  {
   "cell_type": "code",
   "execution_count": null,
   "id": "003cf1e5-1c77-4aa3-9a52-e0a8cb96d9b9",
   "metadata": {
    "tags": []
   },
   "outputs": [],
   "source": [
    "df"
   ]
  },
  {
   "cell_type": "code",
   "execution_count": null,
   "id": "2f1ff3cf-5614-4619-95ec-02da0a35f404",
   "metadata": {
    "tags": []
   },
   "outputs": [],
   "source": [
    "from tqdm.auto import tqdm"
   ]
  },
  {
   "cell_type": "code",
   "execution_count": null,
   "id": "ab0323ad-e030-43cf-aa58-8713a51d6d7e",
   "metadata": {},
   "outputs": [],
   "source": [
    "from pathlib import Path\n",
    "from concurrent.futures import ProcessPoolExecutor\n",
    "\n",
    "\n",
    "def parse_1990_file(file_path):\n",
    "    # Initialize containers for different types of records\n",
    "    data = {'HEADER': None, 'SALES': [], 'FOOTER': None}\n",
    "\n",
    "    with open(file_path, 'r') as file:\n",
    "        for line in file:\n",
    "            parts = line.strip().split(';')\n",
    "            record_type = parts[0]\n",
    "\n",
    "            if record_type == 'A':  # Header record\n",
    "                data['HEADER'] = {\n",
    "                    'Record Type': parts[0],\n",
    "                    'District Code': parts[1],\n",
    "                    'Download Date / Time': parts[2],\n",
    "                    'Submitter\\'s Userid': parts[3],\n",
    "                }\n",
    "            elif record_type == 'B':  # Sales record\n",
    "                data['SALES'].append({\n",
    "                    'Record Type': parts[0],\n",
    "                    'District Code': parts[1],\n",
    "                    'Source': parts[2],\n",
    "                    'Valuation_num': parts[3],\n",
    "                    'Property Id.': parts[4],\n",
    "                    'Unit_num': parts[5],\n",
    "                    'House_num': parts[6],\n",
    "                    'Street_name': parts[7],\n",
    "                    'Suburb_name': parts[8],\n",
    "                    'Postcode': parts[9],\n",
    "                    'Contract_date': parts[10],\n",
    "                    'Purchase_Price': parts[11],\n",
    "                    'Land_Description': parts[12],\n",
    "                    'Area': parts[13],\n",
    "                    'Area_type': parts[14],\n",
    "                    'Dimensions': parts[15],\n",
    "                    'Comp_code': parts[16],\n",
    "                    'Zone_code': parts[17],\n",
    "                    # 'Vendor_name' and 'Purchaser_name' are removed for privacy reasons\n",
    "                })\n",
    "            elif record_type == 'Z':  # Footer record\n",
    "                data['FOOTER'] = {\n",
    "                    'Record Type': parts[0],\n",
    "                    'Total records': parts[1],\n",
    "                    'Total B records': parts[2],\n",
    "                }\n",
    "\n",
    "    return data\n",
    "\n",
    "def parse_sales_data_file(file_path):\n",
    "    with open(file_path, 'r') as file:\n",
    "        data = {'HEADER': None, 'FOOTER': None, 'SALES': []}\n",
    "        sales_index = {}  # To index sales entries by the first 5 columns\n",
    "\n",
    "        counter = {'A': 0, 'B': 0, 'C': 0, 'D': 0, 'Z':0}\n",
    "        for line in file:\n",
    "            line = line.strip()\n",
    "            if line == '' or set(line) == {';'}:\n",
    "                continue\n",
    "            parts = line.split(';')\n",
    "            segments = len(parts)\n",
    "            record_type = parts[0]\n",
    "            \n",
    "            key = tuple(parts[1:5])  # First 5 columns as a tuple to use as a key\n",
    "\n",
    "            counter[record_type] += 1\n",
    "            if record_type == 'A':  # Header\n",
    "                if segments == 5:\n",
    "                    parts = [parts[0]] + ['NA'] + parts[1:]\n",
    "                if len(parts) != 6:\n",
    "                    raise ValueError(\"Invalid File Header:\", line)\n",
    "                    \n",
    "                data['HEADER'] = {\n",
    "                    'File Type': parts[1],\n",
    "                    'District Code': parts[2],\n",
    "                    'Download Date Time': parts[3],\n",
    "                    'Submitter\\'s Userid': parts[4]\n",
    "                }\n",
    "            elif record_type == 'Z':  # Footer\n",
    "                data['FOOTER'] = {\n",
    "                    'Total records': parts[1],\n",
    "                    'Total B records': parts[2],\n",
    "                    'Total C records': parts[3],\n",
    "                    'Total D records': parts[4]\n",
    "                }\n",
    "            elif record_type == 'B':  # New sale entry\n",
    "                area_type = {'M': 'Square Meters', 'H': 'Hectares'}.get(parts[12], parts[12])\n",
    "                nature_property = {'V': 'Vacant', 'R': 'Residence', '3': 'Other'}.get(parts[17], parts[17])\n",
    "                sales_index[key] = {\n",
    "                    'Record Type': parts[0],\n",
    "                    'District Code': parts[1],\n",
    "                    'Property Id': parts[2],\n",
    "                    'Sale Counter': parts[3],\n",
    "                    'Download Date Time': parts[4],\n",
    "                    'Property Name': parts[5],\n",
    "                    'Property Unit Number': parts[6],\n",
    "                    'Property House Number': parts[7],\n",
    "                    'Property Street Name': parts[8],\n",
    "                    'Property Locality': parts[9],\n",
    "                    'Property Post Code': parts[10],\n",
    "                    'Area': parts[11],\n",
    "                    'Area Type': area_type,\n",
    "                    'Contract Date': parts[13],\n",
    "                    'Settlement Date': parts[14],\n",
    "                    'Purchase Price': parts[15],\n",
    "                    'Zoning': parts[16],\n",
    "                    'Nature Property': nature_property,\n",
    "                    'Primary Purpose': parts[18],\n",
    "                    'Strata Number': parts[19],\n",
    "                    'Component code': parts[20],\n",
    "                    'Sale Code': parts[21],\n",
    "                    '% Interest Sale': parts[22],\n",
    "                    'Dealing Number': parts[23],\n",
    "                    'Property Legal Descriptions': [],  # List to hold multiple C records\n",
    "                    'Purchaser – Vendor': []  # List to hold multiple D records\n",
    "                }\n",
    "                data['SALES'].append(sales_index[key])\n",
    "            elif record_type == 'C' and key in sales_index:\n",
    "                sales_index[key]['Property Legal Descriptions'].append(parts[5])\n",
    "            elif record_type == 'D' and key in sales_index:\n",
    "                purchaser_vendor = {'P': 'Purchaser', 'V': 'Vendor'}.get(parts[5], parts[5])\n",
    "                sales_index[key]['Purchaser – Vendor'].append(purchaser_vendor)\n",
    "    \n",
    "    counter['records'] = sum(counter.values())\n",
    "    validate = {k.split()[1]: int(v) for k,v in data['FOOTER'].items()}\n",
    "    # assert all(counter[k] == validate[k] for k in validate), (file_path, counter, validate)\n",
    "    return data\n",
    "\n",
    "def handle_path(path):\n",
    "    try:\n",
    "        if 'ARCHIVE_SALES' in path.name:\n",
    "            res = parse_1990_file(path)\n",
    "            res = 'Archive', res\n",
    "        elif 'SALES_DATA_NNME' in path.name:\n",
    "            res = parse_sales_data_file(path)\n",
    "            res = 'Sales', res\n",
    "        else:\n",
    "            res = 'Unknown', path\n",
    "        return res\n",
    "    except:\n",
    "        print(file)\n",
    "        raise\n",
    "\n",
    "def load_all_data(base):\n",
    "    archives = []\n",
    "    datas = []\n",
    "    paths = Path(base).glob('*.DAT')\n",
    "    datas = {\n",
    "        'Archive': [],\n",
    "        'Sales': [],\n",
    "        'Unknown': []\n",
    "    }\n",
    "    with ProcessPoolExecutor() as executor:\n",
    "        for kind, res in executor.map(handle_path, paths):\n",
    "            datas[kind].append(res)\n",
    "    return datas\n"
   ]
  },
  {
   "cell_type": "code",
   "execution_count": null,
   "id": "74f8d854-ea18-4dcf-b425-d746b15c01d4",
   "metadata": {
    "tags": []
   },
   "outputs": [],
   "source": [
    "path = 'test/data/001_SALES_DATA_NNME_01012006.DAT'\n",
    "# path = 'test/data/276_SALES_DATA_NNME_21032022.DAT'"
   ]
  },
  {
   "cell_type": "code",
   "execution_count": null,
   "id": "106f97ac-a2eb-4b5b-864f-b7681a2af8e4",
   "metadata": {
    "tags": []
   },
   "outputs": [],
   "source": [
    "load_all_data('test/data/')"
   ]
  },
  {
   "cell_type": "code",
   "execution_count": null,
   "id": "8bb5a93c-5375-4bb6-a585-8bda430eaf31",
   "metadata": {
    "tags": []
   },
   "outputs": [],
   "source": [
    "!head test/data/656_SALES_DATA_NNME_03122001.DAT"
   ]
  },
  {
   "cell_type": "code",
   "execution_count": null,
   "id": "7b53d37f-d6af-4d45-b51e-6ac107b38b76",
   "metadata": {
    "tags": []
   },
   "outputs": [],
   "source": [
    "!head test/data/656_SALES_DATA_08072019.DAT\n",
    "\n",
    "\n"
   ]
  },
  {
   "cell_type": "code",
   "execution_count": null,
   "id": "0d6f11eb-5865-4b56-94df-512e73df3af3",
   "metadata": {
    "tags": []
   },
   "outputs": [],
   "source": [
    "from collections import defaultdict\n",
    "ctr = defaultdict(lambda: 0)\n",
    "for f in tqdm(list(Path('test/data/').glob('*.DAT'))):\n",
    "    for line in open(f):\n",
    "        if len(line) >= 1:\n",
    "            fchar = line[0]\n",
    "            if fchar in {'A', 'Z'}:\n",
    "                continue\n",
    "        ctr[(fchar, line.count(';'))] += 1\n",
    "        "
   ]
  },
  {
   "cell_type": "code",
   "execution_count": null,
   "id": "4bbb2152-9ad2-4223-ae57-4bc069545e37",
   "metadata": {
    "tags": []
   },
   "outputs": [],
   "source": [
    "dict(ctr.items())"
   ]
  },
  {
   "cell_type": "code",
   "execution_count": null,
   "id": "5b53f508-306d-4825-ab8b-7b94e8c53301",
   "metadata": {
    "tags": []
   },
   "outputs": [],
   "source": [
    "from tabula import read_pdf\n",
    "\n",
    "tbls = read_pdf('./pdfs/Property_Sales_Data_File_Zone_Codes_and_Descriptions_V2.pdf', pages=[1,2])"
   ]
  },
  {
   "cell_type": "code",
   "execution_count": null,
   "id": "54106a9e-44f7-43fc-b428-d8e31feac5d8",
   "metadata": {
    "tags": []
   },
   "outputs": [],
   "source": [
    "code_to_name = {}\n",
    "\n",
    "for k, v in tbls[0].to_numpy():\n",
    "    if k.isupper() and len(k) <= 3:\n",
    "        if k.startswith('RU'):\n",
    "            v = v.rsplit(' ', 1)[0]\n",
    "        \n",
    "        code_to_name[k] = v"
   ]
  },
  {
   "cell_type": "code",
   "execution_count": null,
   "id": "f5d8cac3-e623-4d18-936b-c41743ffae07",
   "metadata": {
    "tags": []
   },
   "outputs": [],
   "source": [
    "for i, j, k in tbls[1].to_numpy():\n",
    "    if isinstance(i, str):\n",
    "        \n",
    "        print(i)"
   ]
  },
  {
   "cell_type": "code",
   "execution_count": null,
   "id": "9626f5e4-dce8-48ad-9316-049852c5a2f5",
   "metadata": {},
   "outputs": [],
   "source": [
    "from tabula import read_pdf\n",
    "\n",
    "tbls = read_pdf('./pdfs/Property_Sales_Data_File_District_Codes_and_Names.pdf', pages=[1,2])"
   ]
  },
  {
   "cell_type": "code",
   "execution_count": null,
   "id": "7bfbef4d-6449-422f-b280-14d94f7b4823",
   "metadata": {
    "tags": []
   },
   "outputs": [],
   "source": [
    "tbls[0]"
   ]
  },
  {
   "cell_type": "code",
   "execution_count": null,
   "id": "93d5785e-bdd1-47a6-b0cc-e57effff32c2",
   "metadata": {
    "tags": []
   },
   "outputs": [],
   "source": [
    "lines = open('districts.txt').read().split('\\n')"
   ]
  },
  {
   "cell_type": "code",
   "execution_count": null,
   "id": "23e8f977-1c1e-4aba-b25d-fd25bf2a5b7b",
   "metadata": {
    "tags": []
   },
   "outputs": [],
   "source": [
    "CODE_TO_DISTRICT = {}\n",
    "\n",
    "data = {\n",
    "    'codes': [],\n",
    "    'districts': []\n",
    "}\n",
    "w = ''\n",
    "\n",
    "for line in lines:\n",
    "    if line == 'District Code':\n",
    "        w = 'codes'\n",
    "        if len(data[w]) > 0:\n",
    "            for k,v in zip(data['codes'], data['districts']):\n",
    "                CODE_TO_DISTRICT[k] = v\n",
    "        data[w] = []\n",
    "        continue\n",
    "    if line == 'Council Name':\n",
    "        w = 'districts'\n",
    "        data[w] = []\n",
    "        continue\n",
    "    print(w, line)\n",
    "    data[w].append(line.strip())\n",
    "        "
   ]
  },
  {
   "cell_type": "code",
   "execution_count": null,
   "id": "0d894d81-0b23-46c1-9c3d-1f7c3f67d631",
   "metadata": {
    "tags": []
   },
   "outputs": [],
   "source": [
    "CODE_TO_DISTRICT"
   ]
  },
  {
   "cell_type": "code",
   "execution_count": null,
   "id": "9f2f736c-e7cf-4e4c-a855-a6aaef898cbf",
   "metadata": {
    "tags": []
   },
   "outputs": [],
   "source": [
    "from pathlib import Path\n",
    "Path('./foo').mkdir(parents=True, exist_ok=True)"
   ]
  },
  {
   "cell_type": "code",
   "execution_count": 1,
   "id": "6dadc6ec-8e13-4270-a412-07d1b83e9f79",
   "metadata": {},
   "outputs": [],
   "source": [
    "import pandas as pd\n",
    "import polars as pl\n",
    "import plotly.express as px"
   ]
  },
  {
   "cell_type": "code",
   "execution_count": 2,
   "id": "85a58d26-512a-45b6-a4ba-90274e2370b0",
   "metadata": {
    "tags": []
   },
   "outputs": [],
   "source": [
    "df = pl.read_csv('land_value.csv', infer_schema_length=1000000)"
   ]
  },
  {
   "cell_type": "code",
   "execution_count": 3,
   "id": "9931ebcb-ea72-434b-8ba1-ad98948dc2bc",
   "metadata": {
    "tags": []
   },
   "outputs": [
    {
     "data": {
      "text/plain": [
       "13474031"
      ]
     },
     "execution_count": 3,
     "metadata": {},
     "output_type": "execute_result"
    }
   ],
   "source": [
    "len(df)"
   ]
  },
  {
   "cell_type": "code",
   "execution_count": 4,
   "id": "11059e29-d61c-435d-a395-3020c2548323",
   "metadata": {
    "tags": []
   },
   "outputs": [
    {
     "data": {
      "text/html": [
       "<div><style>\n",
       ".dataframe > thead > tr,\n",
       ".dataframe > tbody > tr {\n",
       "  text-align: right;\n",
       "  white-space: pre-wrap;\n",
       "}\n",
       "</style>\n",
       "<small>shape: (5, 28)</small><table border=\"1\" class=\"dataframe\"><thead><tr><th>district_code</th><th>district_name</th><th>property_id</th><th>file_datetime</th><th>property_name</th><th>property_unit_number</th><th>property_house_number</th><th>property_street_name</th><th>property_locality</th><th>property_post_code</th><th>area</th><th>area_type</th><th>contract_date</th><th>settlement_date</th><th>purchase_price</th><th>zone_code</th><th>zone_name</th><th>nature_property</th><th>primary_purpose</th><th>strata_number</th><th>component_code</th><th>sale_code</th><th>interest_sale</th><th>dealing_number</th><th>property_description</th><th>purchaser_vendor</th><th>dimensions</th><th>filetype</th></tr><tr><td>i64</td><td>str</td><td>i64</td><td>str</td><td>str</td><td>str</td><td>str</td><td>str</td><td>str</td><td>i64</td><td>f64</td><td>str</td><td>i64</td><td>i64</td><td>i64</td><td>str</td><td>str</td><td>str</td><td>str</td><td>i64</td><td>str</td><td>str</td><td>i64</td><td>str</td><td>str</td><td>str</td><td>str</td><td>str</td></tr></thead><tbody><tr><td>234</td><td>&quot;BROKEN HILL&quot;</td><td>2613690</td><td>&quot;20130325 01:38…</td><td>null</td><td>null</td><td>&quot;714&quot;</td><td>&quot;BERYL ST&quot;</td><td>&quot;BROKEN HILL&quot;</td><td>2880</td><td>1328.0</td><td>&quot;Square Meters&quot;</td><td>20121128</td><td>20130205</td><td>280000</td><td>&quot;A&quot;</td><td>&quot;Residential&quot;</td><td>&quot;Residence&quot;</td><td>&quot;RESIDENCE&quot;</td><td>null</td><td>&quot;CC&quot;</td><td>null</td><td>0</td><td>&quot;AH554050&quot;</td><td>&quot;3301, 3909/757…</td><td>&quot;Purchaser, Pur…</td><td>null</td><td>&quot;sales&quot;</td></tr><tr><td>234</td><td>&quot;BROKEN HILL&quot;</td><td>2613771</td><td>&quot;20130325 01:38…</td><td>null</td><td>null</td><td>&quot;102&quot;</td><td>&quot;BERYL ST&quot;</td><td>&quot;BROKEN HILL&quot;</td><td>2880</td><td>505.9</td><td>&quot;Square Meters&quot;</td><td>20130207</td><td>20130307</td><td>77500</td><td>&quot;A&quot;</td><td>&quot;Residential&quot;</td><td>&quot;Residence&quot;</td><td>&quot;RESIDENCE&quot;</td><td>null</td><td>&quot;CD&quot;</td><td>null</td><td>0</td><td>&quot;AH615023&quot;</td><td>&quot;B/341084&quot;</td><td>&quot;Purchaser, Ven…</td><td>null</td><td>&quot;sales&quot;</td></tr><tr><td>234</td><td>&quot;BROKEN HILL&quot;</td><td>2619331</td><td>&quot;20130325 01:38…</td><td>null</td><td>null</td><td>&quot;18 A&quot;</td><td>&quot;MORGAN ST&quot;</td><td>&quot;BROKEN HILL&quot;</td><td>2880</td><td>1024.0</td><td>&quot;Square Meters&quot;</td><td>20130125</td><td>20130301</td><td>130000</td><td>&quot;A&quot;</td><td>&quot;Residential&quot;</td><td>&quot;Residence&quot;</td><td>&quot;RESIDENCE&quot;</td><td>null</td><td>&quot;AM&quot;</td><td>null</td><td>0</td><td>&quot;AH610946&quot;</td><td>&quot;5273/757298&quot;</td><td>&quot;Purchaser, Pur…</td><td>null</td><td>&quot;sales&quot;</td></tr><tr><td>234</td><td>&quot;BROKEN HILL&quot;</td><td>2620431</td><td>&quot;20130325 01:38…</td><td>null</td><td>null</td><td>&quot;223&quot;</td><td>&quot;PELL ST&quot;</td><td>&quot;BROKEN HILL&quot;</td><td>2880</td><td>505.9</td><td>&quot;Square Meters&quot;</td><td>20130207</td><td>20130307</td><td>87500</td><td>&quot;A&quot;</td><td>&quot;Residential&quot;</td><td>&quot;Residence&quot;</td><td>&quot;RESIDENCE&quot;</td><td>null</td><td>&quot;AL&quot;</td><td>null</td><td>0</td><td>&quot;AH615022&quot;</td><td>&quot;B/974501&quot;</td><td>&quot;Purchaser, Ven…</td><td>null</td><td>&quot;sales&quot;</td></tr><tr><td>234</td><td>&quot;BROKEN HILL&quot;</td><td>2615579</td><td>&quot;20130325 01:38…</td><td>null</td><td>null</td><td>&quot;418&quot;</td><td>&quot;COBALT ST&quot;</td><td>&quot;BROKEN HILL&quot;</td><td>2880</td><td>499.5</td><td>&quot;Square Meters&quot;</td><td>20130206</td><td>20130308</td><td>92000</td><td>&quot;A&quot;</td><td>&quot;Residential&quot;</td><td>&quot;Residence&quot;</td><td>&quot;RESIDENCE&quot;</td><td>null</td><td>&quot;CD&quot;</td><td>null</td><td>0</td><td>&quot;AH615737&quot;</td><td>&quot;[&#x27;A/331398 A/3…</td><td>&quot;[&#x27;Purchaser&#x27;, …</td><td>null</td><td>&quot;sales&quot;</td></tr></tbody></table></div>"
      ],
      "text/plain": [
       "shape: (5, 28)\n",
       "┌───────────┬───────────┬───────────┬───────────┬───┬───────────┬───────────┬───────────┬──────────┐\n",
       "│ district_ ┆ district_ ┆ property_ ┆ file_date ┆ … ┆ property_ ┆ purchaser ┆ dimension ┆ filetype │\n",
       "│ code      ┆ name      ┆ id        ┆ time      ┆   ┆ descripti ┆ _vendor   ┆ s         ┆ ---      │\n",
       "│ ---       ┆ ---       ┆ ---       ┆ ---       ┆   ┆ on        ┆ ---       ┆ ---       ┆ str      │\n",
       "│ i64       ┆ str       ┆ i64       ┆ str       ┆   ┆ ---       ┆ str       ┆ str       ┆          │\n",
       "│           ┆           ┆           ┆           ┆   ┆ str       ┆           ┆           ┆          │\n",
       "╞═══════════╪═══════════╪═══════════╪═══════════╪═══╪═══════════╪═══════════╪═══════════╪══════════╡\n",
       "│ 234       ┆ BROKEN    ┆ 2613690   ┆ 20130325  ┆ … ┆ 3301, 390 ┆ Purchaser ┆ null      ┆ sales    │\n",
       "│           ┆ HILL      ┆           ┆ 01:38     ┆   ┆ 9/757298  ┆ , Purchas ┆           ┆          │\n",
       "│           ┆           ┆           ┆           ┆   ┆           ┆ er,       ┆           ┆          │\n",
       "│           ┆           ┆           ┆           ┆   ┆           ┆ Vendor,   ┆           ┆          │\n",
       "│           ┆           ┆           ┆           ┆   ┆           ┆ Ve…       ┆           ┆          │\n",
       "│ 234       ┆ BROKEN    ┆ 2613771   ┆ 20130325  ┆ … ┆ B/341084  ┆ Purchaser ┆ null      ┆ sales    │\n",
       "│           ┆ HILL      ┆           ┆ 01:38     ┆   ┆           ┆ , Vendor  ┆           ┆          │\n",
       "│ 234       ┆ BROKEN    ┆ 2619331   ┆ 20130325  ┆ … ┆ 5273/7572 ┆ Purchaser ┆ null      ┆ sales    │\n",
       "│           ┆ HILL      ┆           ┆ 01:38     ┆   ┆ 98        ┆ , Purchas ┆           ┆          │\n",
       "│           ┆           ┆           ┆           ┆   ┆           ┆ er,       ┆           ┆          │\n",
       "│           ┆           ┆           ┆           ┆   ┆           ┆ Vendor    ┆           ┆          │\n",
       "│ 234       ┆ BROKEN    ┆ 2620431   ┆ 20130325  ┆ … ┆ B/974501  ┆ Purchaser ┆ null      ┆ sales    │\n",
       "│           ┆ HILL      ┆           ┆ 01:38     ┆   ┆           ┆ , Vendor, ┆           ┆          │\n",
       "│           ┆           ┆           ┆           ┆   ┆           ┆ Vendor    ┆           ┆          │\n",
       "│ 234       ┆ BROKEN    ┆ 2615579   ┆ 20130325  ┆ … ┆ ['A/33139 ┆ ['Purchas ┆ null      ┆ sales    │\n",
       "│           ┆ HILL      ┆           ┆ 01:38     ┆   ┆ 8 A/35042 ┆ er', 'Pur ┆           ┆          │\n",
       "│           ┆           ┆           ┆           ┆   ┆ 6']       ┆ chaser',  ┆           ┆          │\n",
       "│           ┆           ┆           ┆           ┆   ┆           ┆ 'Vend…    ┆           ┆          │\n",
       "└───────────┴───────────┴───────────┴───────────┴───┴───────────┴───────────┴───────────┴──────────┘"
      ]
     },
     "execution_count": 4,
     "metadata": {},
     "output_type": "execute_result"
    }
   ],
   "source": [
    "df.head()"
   ]
  },
  {
   "cell_type": "code",
   "execution_count": null,
   "id": "453f7aae-00cf-4ac4-ab8a-8f6092b98002",
   "metadata": {},
   "outputs": [],
   "source": []
  }
 ],
 "metadata": {
  "kernelspec": {
   "display_name": "Python 3 (ipykernel)",
   "language": "python",
   "name": "python3"
  },
  "language_info": {
   "codemirror_mode": {
    "name": "ipython",
    "version": 3
   },
   "file_extension": ".py",
   "mimetype": "text/x-python",
   "name": "python",
   "nbconvert_exporter": "python",
   "pygments_lexer": "ipython3",
   "version": "3.9.12"
  }
 },
 "nbformat": 4,
 "nbformat_minor": 5
}
